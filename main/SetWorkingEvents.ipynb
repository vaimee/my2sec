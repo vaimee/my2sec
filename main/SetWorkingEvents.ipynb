{
 "cells": [
  {
   "cell_type": "code",
   "execution_count": 91,
   "id": "3805f4dd",
   "metadata": {},
   "outputs": [],
   "source": [
    "import requests\n",
    "import json\n",
    "url = 'http://127.0.0.1:5000/user'\n",
    "data = {\"watcher-api-request\":{\"requestAction\":{\"watchers-management\":{\"SetWorkingEvents\":\n",
    " {'app': ['ARGE','Atom','Safari','Postman','Atom', 'Safari','Safari','Safari'],\n",
    " 'title':['Postman','API_my2sec.py — ~/Documents/Python_SIGNALS','Editing my2sec/README.md at API-ActivityWatch · vaimee/my2sec','Postman','API_my2sec.py — ~/Documents/Python_SIGNALS', 'ActivityWatch','Untitled - Jupyter Notebook','Pandas - Replace NaN Values with Zero in a Column - Spark by {Examples}'],\n",
    " 'url':  ['None','None','None','None','None', 'None','None','None'],\n",
    " 'working_selection': ['1','0','0','0','0','0','0','0']}}}}}\n",
    "             \n",
    "data = json.dumps(data)\n",
    "r = requests.post(url, json=data)"
   ]
  },
  {
   "cell_type": "code",
   "execution_count": 92,
   "id": "72a6e6f7",
   "metadata": {},
   "outputs": [
    {
     "data": {
      "text/plain": [
       "b'all CSVs updated'"
      ]
     },
     "execution_count": 92,
     "metadata": {},
     "output_type": "execute_result"
    }
   ],
   "source": [
    "r.content"
   ]
  }
 ],
 "metadata": {
  "kernelspec": {
   "display_name": "Python 3 (ipykernel)",
   "language": "python",
   "name": "python3"
  },
  "language_info": {
   "codemirror_mode": {
    "name": "ipython",
    "version": 3
   },
   "file_extension": ".py",
   "mimetype": "text/x-python",
   "name": "python",
   "nbconvert_exporter": "python",
   "pygments_lexer": "ipython3",
   "version": "3.8.15"
  }
 },
 "nbformat": 4,
 "nbformat_minor": 5
}
